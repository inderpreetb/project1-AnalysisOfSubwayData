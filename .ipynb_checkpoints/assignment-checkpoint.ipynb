{
 "cells": [
  {
   "cell_type": "markdown",
   "metadata": {},
   "source": [
    "<b>Section 1. Statistical Test</b>\n",
    "\n",
    "<b>1.1 Which statistical test did you use to analyze the NYC subway data? Did you use a one-tail or a two-tail P value? What is  the null hypothesis? What is your p-critical value? </b>\n",
    "\n",
    "\n",
    "<par> \n",
    "\n",
    "</par>\n",
    "\n"
   ]
  },
  {
   "cell_type": "markdown",
   "metadata": {},
   "source": [
    "We will be using the MannWhitney U test to analyze the subway data. \n",
    "We will use a two-tailed P value to test the hypothesis.\n",
    "\n",
    "Null Hypothesis implies the sample mean of people using the subway on rainny day (M<sub>rain</sub>) is equal \n",
    "to sample mean of people using the subway on a non-rainny day (M<sub>no_rain</sub>)\n",
    "<p>\n",
    "<b>Null Hypothesis  H<sub>0</sub>  :   M<sub>rain</sub> - M<sub>no_rain</sub> = 0  </b>\n",
    "</p>\n",
    "\n",
    "Alternate Hypothesis implies that the sample mean of people using the subway on a rainny day (M<sub>rain</sub>) is not equal to the sample mean of people using the subway on a non-rainny day. (M<sub>no_rain</sub>)\n",
    "<p>\n",
    "<b>Alternate Hypothesis  H<sub>0</sub>  :   M<sub>rain</sub> - M<sub>no_rain</sub> != 0</b>\n",
    "</p>\n",
    "\n",
    "The p-critical value (p) <0.05"
   ]
  },
  {
   "cell_type": "markdown",
   "metadata": {},
   "source": [
    "<p> \n",
    "</p>"
   ]
  },
  {
   "cell_type": "markdown",
   "metadata": {},
   "source": [
    "<b>1.2 Why is this statistical test applicable to the dataset? In particular, consider the assumptions that the test is making about the distribution of ridership in the two samples. </b>"
   ]
  },
  {
   "cell_type": "code",
   "execution_count": 3,
   "metadata": {
    "collapsed": false
   },
   "outputs": [
    {
     "data": {
      "image/png": "[encoded data removed]",
      "text/plain": [
       "<matplotlib.figure.Figure at 0x22ba7da0>"
      ]
     },
     "metadata": {},
     "output_type": "display_data"
    },
    {
     "name": "stdout",
     "output_type": "stream",
     "text": [
      "<ggplot: (36415457)>\n"
     ]
    }
   ],
   "source": [
    "\n",
    "\"\"\"\n",
    "Code to read the subway data and plot a graph for a probility density function\n",
    "\"\"\"\n",
    "import pandas \n",
    "from ggplot import *\n",
    "import matplotlib.mlab as mlab\n",
    "import scipy\n",
    "%matplotlib inline\n",
    "\n",
    "filename = r'turnstile_weather_v2.csv'  # turnstile_data_master_with_weather.csv\n",
    "data_nyc = pandas.read_csv(filename)\n",
    " \n",
    "col0 = 'ENTRIESn_hourly'\n",
    "data_nyc['NORM'] = mlab.normpdf(data_nyc[col0], data_nyc[col0].mean(), data_nyc[col0].std())\n",
    "def fill_rain(x):\n",
    "    if x==0:\n",
    "        return 'NO RAIN'\n",
    "    else:\n",
    "        return 'RAIN'\n",
    "    \n",
    "data_nyc['Normalized Rain'] = data_nyc['rain'].apply(fill_rain)\n",
    "a = ggplot(aes(col0, 'NORM', color='Normalized Rain', fill='Normalized Rain'), data_nyc) + geom_histogram()\n",
    "print a"
   ]
  },
  {
   "cell_type": "markdown",
   "metadata": {},
   "source": [
    "Looking at the histogram for the probability density function for number of entries when it rain vs when it does not rain "
   ]
  },
  {
   "cell_type": "markdown",
   "metadata": {},
   "source": [
    "<b>\n",
    "1.3 What results did you get from this statistical test? These should include the following numerical values: p-values, as well as the means for each of the two samples under test. </b>"
   ]
  },
  {
   "cell_type": "code",
   "execution_count": 4,
   "metadata": {
    "collapsed": false
   },
   "outputs": [
    {
     "name": "stdout",
     "output_type": "stream",
     "text": [
      "M_rain mean     =  2028.19603547\n",
      "M_no_rain_mean  =  1845.53943866\n",
      "MannwhitneyuResult(statistic=153635120.5, pvalue=nan)\n",
      "Two sided p value =  nan\n"
     ]
    }
   ],
   "source": [
    "\"\"\"\n",
    "Code to calculate the mannwhitneyu test\n",
    "\"\"\"\n",
    "rain_data = data_nyc[data_nyc.rain == 1]\n",
    "no_rain_data = data_nyc[data_nyc.rain == 0]\n",
    "rain_data.fillna(0)\n",
    "no_rain_data.fillna(0)\n",
    "result =  scipy.stats.mannwhitneyu(no_rain_data[col0], rain_data[col0])\n",
    "print 'M_rain mean     = ', rain_data[col0].mean()\n",
    "print 'M_no_rain_mean  = ', no_rain_data[col0].mean()\n",
    "print result\n",
    "print 'Two sided p value = ', result[1]*2\n"
   ]
  },
  {
   "cell_type": "markdown",
   "metadata": {},
   "source": [
    "<b> 1.4 What is the significance and interpretation of these results? </b>\n"
   ]
  },
  {
   "cell_type": "markdown",
   "metadata": {},
   "source": [
    "Looking at the results of the mannwhitneyu tests we can conclude that as the p values of 0.03862 is less than 0.05 thus we reject the null hypothesis. This further implies that both the samples are significantly different."
   ]
  },
  {
   "cell_type": "markdown",
   "metadata": {},
   "source": [
    "<b>Section 2. Linear Regression <b>\n",
    "\n",
    "<par>\n",
    "</par>\n",
    "    \n",
    "2.1 What approach did you use to compute the coefficients theta and produce prediction for ENTRIESn_hourly in your regression model:\n",
    "OLS using Statsmodels or Scikit Learn\n",
    "Gradient descent using Scikit Learn\n",
    "Or something different?\n",
    "\n",
    "\n"
   ]
  },
  {
   "cell_type": "code",
   "execution_count": 66,
   "metadata": {
    "collapsed": false
   },
   "outputs": [
    {
     "name": "stdout",
     "output_type": "stream",
     "text": [
      "                            OLS Regression Results                            \n",
      "==============================================================================\n",
      "Dep. Variable:        ENTRIESn_hourly   R-squared:                       0.220\n",
      "Model:                            OLS   Adj. R-squared:                  0.220\n",
      "Method:                 Least Squares   F-statistic:                     1203.\n",
      "Date:                Fri, 25 Sep 2015   Prob (F-statistic):               0.00\n",
      "Time:                        16:35:40   Log-Likelihood:            -3.9600e+05\n",
      "No. Observations:               42649   AIC:                         7.920e+05\n",
      "Df Residuals:                   42638   BIC:                         7.921e+05\n",
      "Df Model:                          10                                         \n",
      "Covariance Type:            nonrobust                                         \n",
      "================================================================================\n",
      "                   coef    std err          t      P>|t|      [95.0% Conf. Int.]\n",
      "--------------------------------------------------------------------------------\n",
      "const        -5.456e+05   1.81e+04    -30.060      0.000     -5.81e+05  -5.1e+05\n",
      "WEATHER_COND   -37.9808      6.407     -5.928      0.000       -50.539   -25.423\n",
      "UNIT_USED       -6.9665      0.111    -62.551      0.000        -7.185    -6.748\n",
      "weekday       1028.2298     28.447     36.146      0.000       972.474  1083.986\n",
      "hour           107.9009      2.072     52.077      0.000       103.840   111.962\n",
      "rain            41.7689     33.491      1.247      0.212       -23.875   107.413\n",
      "tempi           45.2774      2.975     15.221      0.000        39.447    51.108\n",
      "weather_lon  -5848.1239    219.034    -26.700      0.000     -6277.435 -5418.812\n",
      "latitude      2816.5239    180.820     15.576      0.000      2462.113  3170.935\n",
      "meantempi      -46.7459      3.640    -12.842      0.000       -53.880   -39.611\n",
      "HOLIDAY_LIST -1214.6890     77.987    -15.575      0.000     -1367.546 -1061.832\n",
      "==============================================================================\n",
      "Omnibus:                    34815.599   Durbin-Watson:                   1.055\n",
      "Prob(Omnibus):                  0.000   Jarque-Bera (JB):          1094376.017\n",
      "Skew:                           3.783   Prob(JB):                         0.00\n",
      "Kurtosis:                      26.635   Cond. No.                     3.46e+05\n",
      "==============================================================================\n",
      "\n",
      "Warnings:\n",
      "[1] Standard Errors assume that the covariance matrix of the errors is correctly specified.\n",
      "[2] The condition number is large, 3.46e+05. This might indicate that there are\n",
      "strong multicollinearity or other numerical problems.\n"
     ]
    }
   ],
   "source": [
    "\"\"\"\n",
    "Code to implement OLS using statsmodels\n",
    "\"\"\"\n",
    "import datetime\n",
    "import statsmodels.api as sm\n",
    "from pandas.tseries.holiday import USFederalHolidayCalendar\n",
    "cal = USFederalHolidayCalendar()\n",
    "holidays = cal.holidays(start='2011-01-01', end='2011-12-31').to_pydatetime()\n",
    "\n",
    "\"\"\"\n",
    "is_holiday\n",
    "Check for weekends as well as federal holidays\n",
    "\"\"\"\n",
    "def is_holiday(x):\n",
    "    d = datetime.datetime.strptime(x, '%m-%d-%y')    \n",
    "    if d in holidays:\n",
    "        return 1\n",
    "    else:\n",
    "        return 0\n",
    "    \n",
    "def convert_unit_to_float(x):\n",
    "    return int(x[1:])\n",
    "\n",
    "conds_map = {}\n",
    "rand_val = 0\n",
    "def convert_conds_to_value(x):\n",
    "    global rand_val\n",
    "    if conds_map.has_key(x):\n",
    "        return conds_map[x]\n",
    "    conds_map[x] = rand_val\n",
    "    rand_val += 1\n",
    "    return conds_map[x]\n",
    "\n",
    "    \n",
    "#features = [ 'hour','rain', 'fog', 'meantempi']\n",
    "#features = [ 'Hour', 'fog', 'mintempi', 'maxtempi']\n",
    "#data_nyc['IS_HOLIDAYS'] = data_nyc['DATEn'].apply(is_holiday)\n",
    "data_nyc['UNIT_USED'] = data_nyc['UNIT'].apply(convert_unit_to_float)\n",
    "data_nyc['WEATHER_COND'] = data_nyc['conds'].apply(convert_conds_to_value)\n",
    "data_nyc['HOLIDAY_LIST'] = data_nyc['DATEn'].apply(is_holiday)\n",
    "#eatures = [ 'Hour', 'meantempi', 'IS_WEEKEND', 'rain', 'precipi', 'UNIT_USED']\n",
    "#features = [ 'Hour', 'meantempi', 'UNIT_USED', 'IS_HOLIDAYS']  # 0.226\n",
    "#features = [ 'weather_lat', 'weather_lon','WEATHER_COND', 'UNIT_USED', 'day_week', 'weekday', 'hour', 'meantempi', 'latitude', 'longitude', 'HOLIDAY_LIST']  # 0.216\n",
    "features = [ 'WEATHER_COND', 'UNIT_USED', 'weekday', 'hour','rain'  ,'tempi','weather_lon', 'latitude', 'meantempi', 'HOLIDAY_LIST']  # 0.216\n",
    "\n",
    "lm = sm.OLS (data_nyc[col0], sm.add_constant(data_nyc[features]), missing='none').fit()\n",
    "print lm.summary()"
   ]
  },
  {
   "cell_type": "code",
   "execution_count": 34,
   "metadata": {
    "collapsed": false
   },
   "outputs": [
    {
     "name": "stdout",
     "output_type": "stream",
     "text": [
      "[ -3.60551958e+01  -7.02417481e+00   1.03270025e+03   1.22936739e+02\n",
      "  -2.36501034e+00   3.14477805e+03  -5.85402159e+03  -1.20523581e+03]\n",
      "-559462.662176\n",
      "0.215759234751\n"
     ]
    }
   ],
   "source": [
    "\"\"\"\n",
    "Code using scikit learn \n",
    "\"\"\"\n",
    "from sklearn import linear_model\n",
    "clf = linear_model.Ridge(fit_intercept=True, normalize=False)\n",
    "clf.fit(data_nyc[features], data_nyc[col0])\n",
    "print clf.coef_\n",
    "print clf.intercept_\n",
    "print clf.score(data_nyc[features], data_nyc[col0])\n",
    "\n"
   ]
  },
  {
   "cell_type": "markdown",
   "metadata": {},
   "source": [
    "2.2 What features (input variables) did you use in your model? Did you use any dummy variables as part of your features?\n",
    "\n"
   ]
  },
  {
   "cell_type": "markdown",
   "metadata": {},
   "source": [
    "2.3 Why did you select these features in your model? We are looking for specific reasons that lead you to believe that\n",
    "the selected features will contribute to the predictive power of your model.\n",
    "Your reasons might be based on intuition. For example, response for fog might be: “I decided to use fog because I thought that when it is very foggy outside people might decide to use the subway more often.”\n",
    "Your reasons might also be based on data exploration and experimentation, for example: “I used feature X because as soon as I included it in my model, it drastically improved my R2 value.”  \n"
   ]
  },
  {
   "cell_type": "markdown",
   "metadata": {},
   "source": [
    "2.4 What are the parameters (also known as \"coefficients\" or \"weights\") of the non-dummy features in your linear regression model?"
   ]
  },
  {
   "cell_type": "markdown",
   "metadata": {},
   "source": [
    "\n",
    "2.5 What is your model’s R2 (coefficients of determination) value?\n"
   ]
  },
  {
   "cell_type": "markdown",
   "metadata": {},
   "source": [
    "\n",
    "2.6 What does this R2 value mean for the goodness of fit for your regression model? Do you think this linear model to predict ridership is appropriate for this dataset, given this R2  value?"
   ]
  },
  {
   "cell_type": "code",
   "execution_count": null,
   "metadata": {
    "collapsed": true
   },
   "outputs": [],
   "source": []
  }
 ],
 "metadata": {
  "kernelspec": {
   "display_name": "Python 2",
   "language": "python",
   "name": "python2"
  },
  "language_info": {
   "codemirror_mode": {
    "name": "ipython",
    "version": 2
   },
   "file_extension": ".py",
   "mimetype": "text/x-python",
   "name": "python",
   "nbconvert_exporter": "python",
   "pygments_lexer": "ipython2",
   "version": "2.7.10"
  }
 },
 "nbformat": 4,
 "nbformat_minor": 0
}
